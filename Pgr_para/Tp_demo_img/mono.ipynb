{
 "cells": [
  {
   "cell_type": "markdown",
   "metadata": {},
   "source": [
    "## TP 03"
   ]
  },
  {
   "cell_type": "markdown",
   "metadata": {},
   "source": [
    "Programme qui aura pour rôle de d’appliquer un certain nombre de traitement sur des photos\n",
    "Convertir en Noir et Blanc"
   ]
  },
  {
   "cell_type": "markdown",
   "metadata": {},
   "source": [
    "1. conversion en Noir en Blanc d'une image"
   ]
  },
  {
   "cell_type": "code",
   "execution_count": 4,
   "metadata": {},
   "outputs": [
    {
     "name": "stdout",
     "output_type": "stream",
     "text": [
      "Temps d'execution :  0.0069921016693115234  sec\n"
     ]
    }
   ],
   "source": [
    "from PIL import Image, ImageFilter\n",
    "import time\n",
    "\n",
    "debut = time.time()\n",
    "#importation de l'image\n",
    "photo = Image.open(\"cars/carsgraz_001.bmp\")\n",
    "\n",
    "#photo en N&B\n",
    "photo = photo.convert(\"L\")\n",
    "#Enregistrer l'image\n",
    "photo.save(\"carsgraz_001.bmp\")\n",
    "\n",
    "fin = time.time()\n",
    "temps_exe = fin-debut\n",
    "print(\"Temps d'execution : \",temps_exe, \" sec\")"
   ]
  },
  {
   "cell_type": "markdown",
   "metadata": {},
   "source": [
    "2. En fonction du dataset (le dossier cars avec 420 images en .bmp)\n",
    "Sequentiel avec boucle"
   ]
  },
  {
   "cell_type": "code",
   "execution_count": 1,
   "metadata": {},
   "outputs": [
    {
     "name": "stdout",
     "output_type": "stream",
     "text": [
      "Debut du traitement\n",
      "En attente.....\n",
      "Fin du traitement\n",
      "Temps d'execution :  3.0832462310791016  sec\n"
     ]
    }
   ],
   "source": [
    "from PIL import Image\n",
    "import os\n",
    "import time\n",
    "debut = time.time()\n",
    "# Chemin du dossier contenant les images\n",
    "dossier_images = \"cars\"\n",
    "print(\"Debut du traitement\\nEn attente.....\")\n",
    "# Parcourir chaque fichier dans le dossier\n",
    "for fichier in os.listdir(dossier_images):\n",
    "    # Vérifier si le fichier est une image\n",
    "    if fichier.endswith(\".jpg\") or fichier.endswith(\".jpeg\") or fichier.endswith(\".png\")or fichier.endswith(\".bmp\"):\n",
    "        # Chemin complet du fichier image\n",
    "        chemin_image = os.path.join(dossier_images, fichier)\n",
    "        \n",
    "        # Ouvrir l'image\n",
    "        photo = Image.open(chemin_image)\n",
    "        \n",
    "        # Convertir l'image en noir et blanc\n",
    "        photo = photo.convert(\"L\")\n",
    "        \n",
    "        # Enregistrer l'image modifiée dans un nouveau dossier\n",
    "        dossier_modifie = \"cars_modif_sequentielle\"\n",
    "        if not os.path.exists(dossier_modifie):\n",
    "            os.makedirs(dossier_modifie)\n",
    "        chemin_image_modifiee = os.path.join(dossier_modifie, fichier)\n",
    "        photo.save(chemin_image_modifiee)\n",
    "    else:\n",
    "        print(\"Erreur, Pas d'image disponible dans ce dossier\")\n",
    "fin = time.time()\n",
    "temps_exe = fin-debut\n",
    "print(\"Fin du traitement\\nTemps d'execution : \",temps_exe, \" sec\")"
   ]
  }
 ],
 "metadata": {
  "kernelspec": {
   "display_name": "Python 3",
   "language": "python",
   "name": "python3"
  },
  "language_info": {
   "codemirror_mode": {
    "name": "ipython",
    "version": 3
   },
   "file_extension": ".py",
   "mimetype": "text/x-python",
   "name": "python",
   "nbconvert_exporter": "python",
   "pygments_lexer": "ipython3",
   "version": "3.12.3"
  }
 },
 "nbformat": 4,
 "nbformat_minor": 2
}
